{
 "cells": [
  {
   "cell_type": "markdown",
   "id": "046bf595-9d6c-42a1-a5bb-925335ef9076",
   "metadata": {},
   "source": [
    "## Nama: Muhammad Alfayyadh Nezzati Qosim\n",
    "## NIM: 103102400029\n",
    "## Prodi: Sains Data\n",
    "## Fakultas: Informatika"
   ]
  },
  {
   "cell_type": "markdown",
   "id": "4f32251b-c22b-4f86-a258-992eee1464c5",
   "metadata": {},
   "source": [
    "## Minggu 1"
   ]
  },
  {
   "cell_type": "markdown",
   "id": "0987a88d-627d-40e6-b67c-c8a0f09f69ec",
   "metadata": {},
   "source": [
    "#### 1. Komentar:\n",
    "- Komentar digunakan untuk memberikan penjelasan pada kode."
   ]
  },
  {
   "cell_type": "code",
   "execution_count": 5,
   "id": "2ba0359b-ff4e-4bd5-a3f0-5075aa032106",
   "metadata": {},
   "outputs": [],
   "source": [
    "# Ini adalah komentar"
   ]
  },
  {
   "cell_type": "markdown",
   "id": "9f3f41a1-5832-49a6-bd39-d1df1bd5dee8",
   "metadata": {},
   "source": [
    "#### 2. Variabel:\n",
    "- Penamaan variabel tidak boleh diawali angka atau simbol, dan tidak boleh menggunakan keyword Python."
   ]
  },
  {
   "cell_type": "code",
   "execution_count": 19,
   "id": "8fe968c7-644f-44ac-9856-d0f3c2d20c87",
   "metadata": {},
   "outputs": [],
   "source": [
    "nama = \"Rendika\"\n",
    "umur = 50"
   ]
  },
  {
   "cell_type": "markdown",
   "id": "7bd40fb9-095f-4f56-8c1d-750edda289e9",
   "metadata": {},
   "source": [
    "#### 3. Cara Print\n",
    "- Untuk memunculkan Output dari program yang kita buat."
   ]
  },
  {
   "cell_type": "code",
   "execution_count": 28,
   "id": "2b8e4037-0c3c-4cd6-a47f-960da92ab0cb",
   "metadata": {},
   "outputs": [
    {
     "name": "stdout",
     "output_type": "stream",
     "text": [
      "Hello, World!\n"
     ]
    }
   ],
   "source": [
    "print(\"Hello, World!\")"
   ]
  },
  {
   "cell_type": "markdown",
   "id": "e2c576a4-8370-49e9-87dc-4beec81132ba",
   "metadata": {},
   "source": [
    "#### 4. Tipe Data\n",
    "- Integer (int): Angka bulat, misalnya 7 atau -3.\n",
    "- Float (float): Angka desimal, misalnya 3.14 atau -0.001.\n",
    "- String (str): Teks, diapit oleh tanda kutip, misalnya \"Hello\" atau 'Python'.\n",
    "- Boolean (bool): Hanya memiliki dua nilai: True atau False.\n"
   ]
  },
  {
   "cell_type": "code",
   "execution_count": 33,
   "id": "ef42d83b-69ee-4a4f-be84-9fea5a920f16",
   "metadata": {},
   "outputs": [],
   "source": [
    "# Tipe data\n",
    "bilangan_bulat = 10\n",
    "bilangan_desimal = 3.14\n",
    "teks = \"Halo, dunia!\"\n",
    "teks_multibaris = '''Rendika\n",
    "dan\n",
    "sayyid'''\n",
    "boolean = True\n"
   ]
  },
  {
   "cell_type": "markdown",
   "id": "efea40fc-7cf4-4176-b1e6-04aa64304fce",
   "metadata": {},
   "source": [
    "#### 5. MultiStatment Variabel\n",
    "- mendeklarasikan beberapa variabel dalam satu baris kode."
   ]
  },
  {
   "cell_type": "code",
   "execution_count": 44,
   "id": "52ea1a3f-6ac3-42c1-a6d8-108a3929d3b5",
   "metadata": {},
   "outputs": [
    {
     "name": "stdout",
     "output_type": "stream",
     "text": [
      "Nama saya Sayyid dan Umur saya adalah 60 Tahun dan sedang Berkuliah di Institut Teknologi Telkom Surabaya\n"
     ]
    }
   ],
   "source": [
    "nama = \"Sayyid\"\n",
    "a = 10; b = 50\n",
    "kesibukan, keterangan = 'Berkuliah','Institut Teknologi Telkom Surabaya'\n",
    "print(f\"Nama saya {nama} dan Umur saya adalah {a+b} Tahun dan sedang {kesibukan} di {keterangan}\")\n"
   ]
  },
  {
   "cell_type": "markdown",
   "id": "abc56319-a868-423b-8ed7-a276dcee472c",
   "metadata": {},
   "source": [
    "#### 6. Input dari Pengguna\n",
    "- Digunakan untuk mengambil masukan dari pengguna. Sederhananya, fungsi ini meminta pengguna untuk mengetikkan sesuatu, dan kemudian menyimpan input tersebut sebagai sebuah string."
   ]
  },
  {
   "cell_type": "code",
   "execution_count": 53,
   "id": "f836e653-1d62-4e9b-ae27-d1f947a4f4ed",
   "metadata": {},
   "outputs": [
    {
     "name": "stdin",
     "output_type": "stream",
     "text": [
      "Masukkan nama Anda:  10\n",
      "Berapa harganya?:  2\n"
     ]
    }
   ],
   "source": [
    "nama = input(\"Masukkan nama Anda: \")\n",
    "makan = 'sudah'\n",
    "harga = int(input(\"Berapa harganya?: \"))"
   ]
  },
  {
   "cell_type": "markdown",
   "id": "d5335c82-87be-43d2-a660-7e1642308f5a",
   "metadata": {},
   "source": [
    "#### 7. Import Modul\n",
    "- digunakan untuk memasukkan modul eksternal atau pustaka ke dalam kode kita. Modul adalah kumpulan fungsi dan variabel yang telah ditulis sebelumnya dan bisa digunakan kembali."
   ]
  },
  {
   "cell_type": "code",
   "execution_count": 56,
   "id": "7e2e1952-1cd9-4a04-8b89-78581e0744d4",
   "metadata": {},
   "outputs": [],
   "source": [
    "# import seluruh modul\n",
    "import pandas as pd"
   ]
  },
  {
   "cell_type": "markdown",
   "id": "847c4e3d-02f8-4d29-b266-e6bab9419b13",
   "metadata": {},
   "source": [
    "#### 8. Percabangan\n",
    "- Fungsi percabangan di Python digunakan untuk membuat keputusan dalam kode berdasarkan kondisi tertentu. Percabangan memungkinkan program untuk menjalankan kode tertentu hanya jika kondisi yang diberikan benar (True). Berikut adalah elemen dasar percabangan di Python:\n",
    "- if: Menjalankan blok kode jika kondisi benar.\n",
    "- elif (else if): Menjalankan blok kode lain jika kondisi pertama salah tetapi kondisi ini benar.\n",
    "- else: Menjalankan blok kode jika semua kondisi sebelumnya salah."
   ]
  },
  {
   "cell_type": "code",
   "execution_count": 64,
   "id": "fc2e73fa-2d11-4a23-8067-d291a95b91db",
   "metadata": {},
   "outputs": [
    {
     "name": "stdin",
     "output_type": "stream",
     "text": [
      "Masukkan nilaimu:  10\n"
     ]
    },
    {
     "name": "stdout",
     "output_type": "stream",
     "text": [
      "Maaf anda tidak lulus\n"
     ]
    }
   ],
   "source": [
    "nilai = int(input(\"Masukkan nilaimu: \"))\n",
    "\n",
    "if nilai >= 70:\n",
    "    print(\"Selamat anda lulus MatKul Algoritma & Pemrograman!\")\n",
    "elif nilai == 20:\n",
    "    print('Semoga Lulus')\n",
    "else:\n",
    "    print(\"Maaf anda tidak lulus\")"
   ]
  },
  {
   "cell_type": "markdown",
   "id": "c696ea79-493c-4824-855e-f5e9b6604768",
   "metadata": {},
   "source": [
    "#### 9. Looping and While\n",
    "- Looping: Mengulangi kode beberapa kali.\n",
    "- While Loop: Mengulangi kode selama kondisi benar."
   ]
  },
  {
   "cell_type": "code",
   "execution_count": 69,
   "id": "066a9c49-ce4e-495a-9281-09a360990898",
   "metadata": {},
   "outputs": [
    {
     "name": "stdout",
     "output_type": "stream",
     "text": [
      "1\n",
      "Namaku 1\n",
      "2\n",
      "Namaku 2\n",
      "3\n",
      "Namaku 3\n",
      "4\n",
      "Namaku 4\n"
     ]
    }
   ],
   "source": [
    "for i in range(1,5):\n",
    "    print(i)\n",
    "    print('Namaku',i)"
   ]
  },
  {
   "cell_type": "code",
   "execution_count": 71,
   "id": "f21df8ec-b6b2-4f31-800f-83c368f68785",
   "metadata": {},
   "outputs": [
    {
     "name": "stdout",
     "output_type": "stream",
     "text": [
      "1\n",
      "2\n",
      "3\n"
     ]
    }
   ],
   "source": [
    "x = 1\n",
    "while x <= 3:\n",
    "    print(x)\n",
    "    x += 1\n"
   ]
  },
  {
   "cell_type": "markdown",
   "id": "1a045996-37c5-4fdc-8f94-d099e2e20290",
   "metadata": {},
   "source": [
    "## Minggu 2"
   ]
  },
  {
   "cell_type": "markdown",
   "id": "f6e55d63-0d71-455a-aefd-52dbec58eefa",
   "metadata": {},
   "source": [
    "#### Penjumlahan Sederhana\n",
    "Penjelasan: Kode ini menambahkan dua angka, a dan b, lalu menyimpan hasilnya dalam variabel hasil_penjumlahan dan mencetaknya."
   ]
  },
  {
   "cell_type": "code",
   "execution_count": 78,
   "id": "d52c4f9b-2fe8-4952-90a5-dea3d7551c6c",
   "metadata": {},
   "outputs": [
    {
     "name": "stdout",
     "output_type": "stream",
     "text": [
      "Hasil penjumlahan: 8\n"
     ]
    }
   ],
   "source": [
    "# Menambahkan dua angka\n",
    "a = 5\n",
    "b = 3\n",
    "hasil_penjumlahan = a + b\n",
    "print(\"Hasil penjumlahan:\", hasil_penjumlahan)\n"
   ]
  },
  {
   "cell_type": "markdown",
   "id": "5853b17e-c666-49d5-ab09-88415239536c",
   "metadata": {},
   "source": [
    "#### Pangkat\n",
    "Penjelasan: Kode ini menghitung 2 pangkat 3 (yaitu 2^3), dan menyimpan hasilnya dalam variabel hasil_pangkat, lalu mencetak hasilnya."
   ]
  },
  {
   "cell_type": "code",
   "execution_count": 98,
   "id": "8ac69849-2ff3-4f30-b73d-1df444051f79",
   "metadata": {},
   "outputs": [
    {
     "name": "stdout",
     "output_type": "stream",
     "text": [
      "Hasil pangkat: 8\n"
     ]
    }
   ],
   "source": [
    "# Menghitung pangkat\n",
    "basis = 2\n",
    "eksponen = 3\n",
    "hasil_pangkat = basis ** eksponen\n",
    "print(\"Hasil pangkat:\", hasil_pangkat)\n"
   ]
  },
  {
   "cell_type": "markdown",
   "id": "09d0b17b-4d73-4145-923d-79860b817621",
   "metadata": {},
   "source": [
    "#### Akar Kuadrat\n",
    "Penjelasan: Kode ini menggunakan fungsi sqrt dari modul math untuk menghitung akar kuadrat dari 16, lalu menyimpan hasilnya dalam variabel hasil_akar_kuadrat dan mencetak hasilnya."
   ]
  },
  {
   "cell_type": "code",
   "execution_count": 100,
   "id": "ff6b4f5a-b9ba-44ec-b9eb-55af8edbd7f2",
   "metadata": {},
   "outputs": [
    {
     "name": "stdout",
     "output_type": "stream",
     "text": [
      "Hasil akar kuadrat: 4.0\n"
     ]
    }
   ],
   "source": [
    "import math\n",
    "\n",
    "# Menghitung akar kuadrat\n",
    "angka = 16\n",
    "hasil_akar_kuadrat = math.sqrt(angka)\n",
    "print(\"Hasil akar kuadrat:\", hasil_akar_kuadrat)\n"
   ]
  },
  {
   "cell_type": "markdown",
   "id": "15cdbd9c-5ae6-492a-a20b-fe4ed7870618",
   "metadata": {},
   "source": [
    "## Minggu 3"
   ]
  },
  {
   "cell_type": "markdown",
   "id": "dc383c42-e625-44d6-90ec-0058e633a706",
   "metadata": {},
   "source": [
    "#### Percabangan 'If' (Single Alternative Selection)\n",
    "Penjelasan: Kode ini mengecek apakah nilai lebih besar atau sama dengan 75. Jika benar, maka mencetak \"Lulus\"."
   ]
  },
  {
   "cell_type": "code",
   "execution_count": 108,
   "id": "4376f429-54cd-4c56-be92-19dd375ecfed",
   "metadata": {},
   "outputs": [
    {
     "name": "stdout",
     "output_type": "stream",
     "text": [
      "Lulus\n"
     ]
    }
   ],
   "source": [
    "# Percabangan If\n",
    "nilai = 85\n",
    "\n",
    "if nilai >= 75:\n",
    "    print(\"Lulus\")\n"
   ]
  },
  {
   "cell_type": "markdown",
   "id": "9a57173e-eea6-432b-aa48-7b0ee287686d",
   "metadata": {},
   "source": [
    "#### Percabangan 'If-Else' (Dual Alternative Selection)\n",
    "Penjelasan: Kode ini mengecek apakah nilai lebih besar atau sama dengan 75. Jika benar, maka mencetak \"Lulus\". Jika salah, maka mencetak \"Tidak Lulus\"."
   ]
  },
  {
   "cell_type": "code",
   "execution_count": 110,
   "id": "f4035be7-cc7d-4990-8f6b-2007614642aa",
   "metadata": {},
   "outputs": [
    {
     "name": "stdout",
     "output_type": "stream",
     "text": [
      "Tidak Lulus\n"
     ]
    }
   ],
   "source": [
    "# Percabangan If-Else\n",
    "nilai = 65\n",
    "\n",
    "if nilai >= 75:\n",
    "    print(\"Lulus\")\n",
    "else:\n",
    "    print(\"Tidak Lulus\")\n"
   ]
  },
  {
   "cell_type": "markdown",
   "id": "3831d0f2-94d6-446a-aa84-7ff91cab6119",
   "metadata": {},
   "source": [
    "#### Percabangan 'If-Elif-Else' (Multiple Alternative Selection)\n",
    "Penjelasan: Kode ini memiliki beberapa kondisi:\n",
    "- Jika nilai lebih besar atau sama dengan 90, mencetak \"Sangat Baik\".\n",
    "- Jika nilai lebih besar atau sama dengan 75 tetapi kurang dari 90, mencetak \"Baik\".\n",
    "- Jika tidak ada kondisi yang terpenuhi, mencetak \"Perlu Meningkatkan\"."
   ]
  },
  {
   "cell_type": "code",
   "execution_count": 115,
   "id": "c0955f2a-f454-40c1-9b02-5ccf9ccb6415",
   "metadata": {},
   "outputs": [
    {
     "name": "stdout",
     "output_type": "stream",
     "text": [
      "Baik\n"
     ]
    }
   ],
   "source": [
    "# Percabangan If-Elif-Else\n",
    "nilai = 80\n",
    "\n",
    "if nilai >= 90:\n",
    "    print(\"Sangat Baik\")\n",
    "elif nilai >= 75:\n",
    "    print(\"Baik\")\n",
    "else:\n",
    "    print(\"Perlu Meningkatkan\")\n"
   ]
  },
  {
   "cell_type": "markdown",
   "id": "5d234012-337a-430d-9e15-af8e838df012",
   "metadata": {},
   "source": [
    "## Minggu 4"
   ]
  },
  {
   "cell_type": "markdown",
   "id": "145e7353-9c15-4bd1-8e42-8a0b108388a3",
   "metadata": {},
   "source": [
    "#### Nested If\n",
    "Penjelasan: Kode ini pertama-tama mengecek apakah umur lebih besar atau sama dengan 18. Jika iya, maka mengecek apakah keluarga bernilai True. Jika benar, mencetak \"Diperbolehkan masuk karena keluarga\". Jika tidak, mencetak \"Diperbolehkan masuk karena umur\". Jika umur kurang dari 18, mencetak \"Tidak diperbolehkan masuk\"."
   ]
  },
  {
   "cell_type": "code",
   "execution_count": 121,
   "id": "994ecb4e-37e8-403d-83bd-ee0d0cdeeae3",
   "metadata": {},
   "outputs": [
    {
     "name": "stdout",
     "output_type": "stream",
     "text": [
      "Diperbolehkan masuk karena keluarga\n"
     ]
    }
   ],
   "source": [
    "# If Bersarang\n",
    "umur = 20\n",
    "keluarga = True\n",
    "\n",
    "if umur >= 18:\n",
    "    if keluarga:\n",
    "        print(\"Diperbolehkan masuk karena keluarga\")\n",
    "    else:\n",
    "        print(\"Diperbolehkan masuk karena umur\")\n",
    "else:\n",
    "    print(\"Tidak diperbolehkan masuk\")\n"
   ]
  },
  {
   "cell_type": "markdown",
   "id": "96769d3f-0d8a-4a72-8adb-e04ff8a6fa8f",
   "metadata": {},
   "source": [
    "#### Perulangan (for) - Counted loop\n",
    "Penjelasan: Kode ini menggunakan perulangan for dengan range(5) yang akan mengulangi blok kode 5 kali dan mencetak iterasi ke berapa."
   ]
  },
  {
   "cell_type": "code",
   "execution_count": 123,
   "id": "1d0986b7-d06f-44f7-b214-0f11670aa8ef",
   "metadata": {},
   "outputs": [
    {
     "name": "stdout",
     "output_type": "stream",
     "text": [
      "Iterasi ke- 0\n",
      "Iterasi ke- 1\n",
      "Iterasi ke- 2\n",
      "Iterasi ke- 3\n",
      "Iterasi ke- 4\n"
     ]
    }
   ],
   "source": [
    "# Perulangan for dengan count\n",
    "for i in range(5):\n",
    "    print(\"Iterasi ke-\", i)\n"
   ]
  },
  {
   "cell_type": "markdown",
   "id": "296ec707-c0e6-4e33-8e83-ea7e757c4f4a",
   "metadata": {},
   "source": [
    "#### Iterating Through Elements in a List or Array\n",
    "Penjelasan: Kode ini menggunakan perulangan for untuk mengiterasi setiap elemen dalam list buah dan mencetaknya."
   ]
  },
  {
   "cell_type": "code",
   "execution_count": 127,
   "id": "89a93246-d1c3-4663-91d5-f255fee53614",
   "metadata": {},
   "outputs": [
    {
     "name": "stdout",
     "output_type": "stream",
     "text": [
      "apel\n",
      "pisang\n",
      "jeruk\n"
     ]
    }
   ],
   "source": [
    "# Mengiterasi elemen dalam list\n",
    "buah = [\"apel\", \"pisang\", \"jeruk\"]\n",
    "for item in buah:\n",
    "    print(item)\n"
   ]
  },
  {
   "cell_type": "markdown",
   "id": "7939079f-fc70-4520-a4a1-4dbc59fc8aa3",
   "metadata": {},
   "source": [
    "#### Iterating Through Characters in a String\n",
    "Penjelasan: Kode ini menggunakan perulangan for untuk mengiterasi setiap karakter dalam string kata dan mencetaknya."
   ]
  },
  {
   "cell_type": "code",
   "execution_count": 132,
   "id": "0eedd37a-6de6-4363-bf60-0e317c531bb7",
   "metadata": {},
   "outputs": [
    {
     "name": "stdout",
     "output_type": "stream",
     "text": [
      "P\n",
      "y\n",
      "t\n",
      "h\n",
      "o\n",
      "n\n"
     ]
    }
   ],
   "source": [
    "# Mengiterasi karakter dalam string\n",
    "kata = \"Python\"\n",
    "for karakter in kata:\n",
    "    print(karakter)\n"
   ]
  },
  {
   "cell_type": "markdown",
   "id": "6018c67f-f023-44fe-b838-3f7345e37c2b",
   "metadata": {},
   "source": [
    "#### Perulangan (While) - Uncounted loop (infinity and limited loop)\n",
    "Penjelasan:\n",
    "- Kode pertama menunjukkan loop tak terbatas dengan while True. Tanpa perintah break, loop ini akan berjalan selamanya.\n",
    "- Kode kedua menunjukkan loop terbatas dengan kondisi x < 5. Loop akan berjalan sampai x tidak lagi kurang dari 5."
   ]
  },
  {
   "cell_type": "code",
   "execution_count": 138,
   "id": "954ff3d8-a7c1-4af1-8a60-d4dbfaceadb0",
   "metadata": {},
   "outputs": [
    {
     "name": "stdout",
     "output_type": "stream",
     "text": [
      "Ini adalah loop tak terbatas\n",
      "Nilai x: 0\n",
      "Nilai x: 1\n",
      "Nilai x: 2\n",
      "Nilai x: 3\n",
      "Nilai x: 4\n"
     ]
    }
   ],
   "source": [
    "# Perulangan while tak terbatas (infinite loop)\n",
    "while True:\n",
    "    print(\"Ini adalah loop tak terbatas\")\n",
    "    break  # Tambahkan ini untuk mencegah loop tak terbatas nyata\n",
    "\n",
    "# Perulangan while terbatas (limited loop)\n",
    "x = 0\n",
    "while x < 5:\n",
    "    print(\"Nilai x:\", x)\n",
    "    x += 1\n"
   ]
  },
  {
   "cell_type": "markdown",
   "id": "36e4200f-9138-4714-8072-6f8680dd8e7e",
   "metadata": {},
   "source": [
    "## Minggu 5"
   ]
  },
  {
   "cell_type": "markdown",
   "id": "ee0dd6ff-f178-42e8-8682-7f272eb499c8",
   "metadata": {},
   "source": [
    "#### Mencetak Elemen List\n",
    "Penjelasan: Kode ini mendeklarasikan sebuah list dengan elemen [1, 3, 8, 10]. Kemudian, menggunakan perulangan for untuk mengiterasi setiap elemen dalam list dan mencetak elemen tersebut tanpa pemisah (karena end=\"\")."
   ]
  },
  {
   "cell_type": "code",
   "execution_count": 144,
   "id": "b55bf5d9-ad0c-4894-9325-3f92df761a64",
   "metadata": {},
   "outputs": [
    {
     "name": "stdout",
     "output_type": "stream",
     "text": [
      "13810"
     ]
    }
   ],
   "source": [
    "list = [1, 3, 8, 10]\n",
    "for i in list:\n",
    "    print(i, end=\"\")\n"
   ]
  },
  {
   "cell_type": "markdown",
   "id": "30797a7e-a153-48b7-ac81-d9d2d2f34467",
   "metadata": {},
   "source": [
    "#### Mengumpulkan dan Menampilkan Data\n",
    "Penjelasan: Kode ini meminta pengguna untuk memasukkan jumlah data n, kemudian menggunakan list comprehension untuk mengumpulkan n data yang diinputkan oleh pengguna dan menyimpan dalam list list_data. Setelah itu, mencetak list data yang telah diinputkan."
   ]
  },
  {
   "cell_type": "code",
   "execution_count": 148,
   "id": "00f3ce50-609f-40ef-b62e-5ed4fb4ff700",
   "metadata": {},
   "outputs": [
    {
     "name": "stdin",
     "output_type": "stream",
     "text": [
      "Masukkan jumlah data:  10\n",
      "Masukkan data:  13\n",
      "Masukkan data:  13\n",
      "Masukkan data:  15\n",
      "Masukkan data:  21\n",
      "Masukkan data:  13\n",
      "Masukkan data:  1\n",
      "Masukkan data:  1\n",
      "Masukkan data:  1\n",
      "Masukkan data:  1\n",
      "Masukkan data:  1\n"
     ]
    },
    {
     "name": "stdout",
     "output_type": "stream",
     "text": [
      "Data kamu adalah [13.0, 13.0, 15.0, 21.0, 13.0, 1.0, 1.0, 1.0, 1.0, 1.0]\n"
     ]
    }
   ],
   "source": [
    "n = int(input(\"Masukkan jumlah data: \"))\n",
    "list_data = [float(input(\"Masukkan data: \")) for i in range(n)]\n",
    "print('Data kamu adalah', list_data)\n"
   ]
  },
  {
   "cell_type": "markdown",
   "id": "a6ae0475-1fe2-4d2b-ab34-8b965071f365",
   "metadata": {},
   "source": [
    "#### Perkalian Ganda\n",
    "Penjelasan: Kode ini menggunakan nested loop untuk mencetak tabel perkalian dari 1 hingga 2. Setelah mencetak hasil perkalian, menambahkan baris kosong untuk pemisahan. Setelah selesai, mencetak \"Terimakasih\"."
   ]
  },
  {
   "cell_type": "code",
   "execution_count": 153,
   "id": "b188ceec-b090-4faf-b007-d990825a7a50",
   "metadata": {},
   "outputs": [
    {
     "name": "stdout",
     "output_type": "stream",
     "text": [
      "1 * 1 = 1\n",
      "1 * 2 = 2\n",
      "1 * 3 = 3\n",
      "1 * 4 = 4\n",
      "1 * 5 = 5\n",
      "1 * 6 = 6\n",
      "1 * 7 = 7\n",
      "1 * 8 = 8\n",
      "1 * 9 = 9\n",
      "1 * 10 = 10\n",
      "\n",
      "2 * 1 = 2\n",
      "2 * 2 = 4\n",
      "2 * 3 = 6\n",
      "2 * 4 = 8\n",
      "2 * 5 = 10\n",
      "2 * 6 = 12\n",
      "2 * 7 = 14\n",
      "2 * 8 = 16\n",
      "2 * 9 = 18\n",
      "2 * 10 = 20\n",
      "\n",
      "Terimakasih\n"
     ]
    }
   ],
   "source": [
    "for i in range(1, 3):\n",
    "    for j in range(1, 11):\n",
    "        print(i, \"*\", j, \"=\", i * j)\n",
    "    print()\n",
    "print(\"Terimakasih\")\n"
   ]
  },
  {
   "cell_type": "markdown",
   "id": "75881dbd-9ec2-4682-a975-0a6693f4c17e",
   "metadata": {},
   "source": [
    "#### Pola Segitiga Asteris\n",
    "Penjelasan: Kode ini meminta pengguna untuk memasukkan jumlah baris rows, kemudian menggunakan loop untuk mencetak pola segitiga asteris dengan jumlah baris sesuai input."
   ]
  },
  {
   "cell_type": "code",
   "execution_count": 159,
   "id": "a01defca-1632-4202-a2cf-87884a9fbaa8",
   "metadata": {},
   "outputs": [
    {
     "name": "stdin",
     "output_type": "stream",
     "text": [
      "Masukkan jumlah baris:  3\n"
     ]
    },
    {
     "name": "stdout",
     "output_type": "stream",
     "text": [
      "*\n",
      "**\n",
      "***\n"
     ]
    }
   ],
   "source": [
    "rows = int(input(\"Masukkan jumlah baris: \"))\n",
    "\n",
    "# Pola segitiga asteris\n",
    "for i in range(1, rows + 1):\n",
    "    print('*' * i)\n"
   ]
  },
  {
   "cell_type": "code",
   "execution_count": 161,
   "id": "c8b94858-5573-453b-8edd-e11b3294d98c",
   "metadata": {},
   "outputs": [
    {
     "name": "stdin",
     "output_type": "stream",
     "text": [
      "Masukkan jumlah baris:  5\n"
     ]
    },
    {
     "name": "stdout",
     "output_type": "stream",
     "text": [
      "*****\n",
      "****\n",
      "***\n",
      "**\n",
      "*\n"
     ]
    }
   ],
   "source": [
    "baris = int(input(\"Masukkan jumlah baris: \"))\n",
    "\n",
    "# Pola segitiga terbalik asteris\n",
    "for i in range(baris, 0, -1):\n",
    "    print('*' * i)\n"
   ]
  },
  {
   "cell_type": "markdown",
   "id": "7860d46d-c008-4484-b059-5895e01c89c7",
   "metadata": {},
   "source": [
    "#### Pengolahan Data dan Perhitungan Rata-Rata\n",
    "Penjelasan: Kode ini meminta pengguna untuk memasukkan jumlah data n, kemudian mengumpulkan data ke dalam list data. Setelah itu, menghitung jumlah total data, banyaknya data, dan rata-rata data, kemudian mencetak hasilnya."
   ]
  },
  {
   "cell_type": "code",
   "execution_count": 165,
   "id": "67dacb1f-8e8e-4b19-9492-146aad493985",
   "metadata": {},
   "outputs": [
    {
     "name": "stdin",
     "output_type": "stream",
     "text": [
      "Masukkan jumlah data:  3\n",
      "Masukkan data ke-1:  2\n",
      "Masukkan data ke-2:  5\n",
      "Masukkan data ke-3:  7\n"
     ]
    },
    {
     "name": "stdout",
     "output_type": "stream",
     "text": [
      "Banyak data 3\n",
      "Jumlahnya 14.0\n",
      "Rata-ratanya 4.666666666666667\n"
     ]
    }
   ],
   "source": [
    "n = int(input('Masukkan jumlah data: '))\n",
    "data = []\n",
    "for i in range(n):\n",
    "    nilai = float(input(f\"Masukkan data ke-{i+1}: \"))\n",
    "    data.append(nilai)\n",
    "\n",
    "jumlah = sum(data)\n",
    "banyak = len(data)\n",
    "rata = jumlah / banyak\n",
    "\n",
    "print(f'Banyak data {banyak}')\n",
    "print(f'Jumlahnya {jumlah}')\n",
    "print(f'Rata-ratanya {rata}')\n"
   ]
  },
  {
   "cell_type": "markdown",
   "id": "b35877d9-093c-4495-8a7f-90a622656015",
   "metadata": {},
   "source": [
    "#### Program dengan otomatisasi angka numpy\n",
    "Penjelasan: Mengimpor modul numpy dengan alias np. numpy adalah pustaka populer di Python untuk komputasi numerik dan Menghasilkan 15 nilai acak antara 20 dan 100 menggunakan np.random.randint. Hasilnya disimpan dalam array nilai_siswa dan dicetak."
   ]
  },
  {
   "cell_type": "code",
   "execution_count": 170,
   "id": "a265e99f-36f2-4f11-ba1f-7921de4a1f51",
   "metadata": {},
   "outputs": [
    {
     "name": "stdout",
     "output_type": "stream",
     "text": [
      "Nilai siswa: [35 61 82 29 90 68 78 28 42 77 76 91 55 41 90]\n",
      "Nilai minimum dari sekelompok data adalah: 28\n",
      "Nilai maksimum dari sekelompok data adalah: 91\n"
     ]
    }
   ],
   "source": [
    "import numpy as np\n",
    "\n",
    "# Menghasilkan 10 nilai acak antara 50 dan 100\n",
    "nilai_siswa = np.random.randint(20, 101, size=15)\n",
    "print(\"Nilai siswa:\", nilai_siswa)\n",
    "\n",
    "# Langkah 2: Temukan nilai minimum dan maksimum\n",
    "nilai_minimum = min(nilai_siswa)\n",
    "nilai_maksimum = max(nilai_siswa)\n",
    "\n",
    "# Langkah 3: Cetak hasil\n",
    "print(\"Nilai minimum dari sekelompok data adalah:\", nilai_minimum)\n",
    "print(\"Nilai maksimum dari sekelompok data adalah:\", nilai_maksimum)\n"
   ]
  },
  {
   "cell_type": "markdown",
   "id": "630b096f-cabf-4337-90d3-4ab846a4571b",
   "metadata": {},
   "source": [
    "## Minggu 7"
   ]
  },
  {
   "cell_type": "markdown",
   "id": "22bcf5a8-249f-42c5-abe3-05469a526e83",
   "metadata": {},
   "source": [
    "#### Memeriksa Bilangan\n",
    "Penjelasan: Kode ini mengecek apakah n adalah kelipatan 5 dan mencetak hasilnya. Kemudian mengecek apakah n positif atau negatif dan apakah n genap, ganjil, atau kelipatan 5."
   ]
  },
  {
   "cell_type": "code",
   "execution_count": 174,
   "id": "3c92ba4b-2272-47d9-9767-7620d1582031",
   "metadata": {},
   "outputs": [
    {
     "name": "stdin",
     "output_type": "stream",
     "text": [
      "masukkan angka:  6\n"
     ]
    },
    {
     "name": "stdout",
     "output_type": "stream",
     "text": [
      "6 bukan kelipatan 5.\n",
      "angka 6 merupakan bilangan positif dan jenis genap\n"
     ]
    }
   ],
   "source": [
    "n = int(input('masukkan angka: '))\n",
    "if n % 5 == 0: \n",
    "    print(f\"{n} adalah kelipatan 5.\") \n",
    "else: \n",
    "    print(f\"{n} bukan kelipatan 5.\")\n",
    "if n > 0:\n",
    "    bilangan = \"positif\"\n",
    "    if n % 2 == 0:\n",
    "        jenis = 'genap'\n",
    "    elif n % 5 == 0:\n",
    "        jenis = \"kelipatan\"\n",
    "    else:\n",
    "        jenis = 'ganjil'\n",
    "else:\n",
    "    bilangan = \"negatif\"\n",
    "    if n % 2 == 0:\n",
    "        jenis = \"genap\"\n",
    "    elif n % 5 == 0:\n",
    "        jenis = \"kelipatan 5\"\n",
    "    else:\n",
    "        jenis = 'ganjil'\n",
    "print(f\"angka {n} merupakan bilangan {bilangan} dan jenis {jenis}\")\n"
   ]
  },
  {
   "cell_type": "markdown",
   "id": "8a5de578-122c-474c-8c5b-b4507c1c73f8",
   "metadata": {},
   "source": [
    "#### Mengecek Kelayakan dan Diskon\n",
    "Penjelasan: Kode ini mengecek apakah pengguna memenuhi syarat untuk naik rollercoaster berdasarkan usia dan tinggi. Juga mengecek apakah pengguna mendapatkan diskon berdasarkan status keanggotaan atau jumlah pembelian."
   ]
  },
  {
   "cell_type": "code",
   "execution_count": 178,
   "id": "c9362c00-9730-4a4d-a836-57b097b2a957",
   "metadata": {},
   "outputs": [
    {
     "name": "stdin",
     "output_type": "stream",
     "text": [
      "Masukkan usia Anda:  10\n",
      "Masukkan tinggi badan Anda (dalam cm):  130\n"
     ]
    },
    {
     "name": "stdout",
     "output_type": "stream",
     "text": [
      "Maaf, Anda belum memenuhi syarat untuk naik wahana Ferris Wheel.\n"
     ]
    },
    {
     "name": "stdin",
     "output_type": "stream",
     "text": [
      "Apakah Anda member? (ya/tidak):  ya\n",
      "Masukkan total pembelian Anda (dalam Rupiah):  100000\n"
     ]
    },
    {
     "name": "stdout",
     "output_type": "stream",
     "text": [
      "Anda mendapatkan diskon.\n"
     ]
    }
   ],
   "source": [
    "# Bagian 1: Mengecek kelayakan untuk naik wahana\n",
    "age = int(input(\"Masukkan usia Anda: \"))\n",
    "height = int(input(\"Masukkan tinggi badan Anda (dalam cm): \"))\n",
    "\n",
    "if age >= 12 and height >= 120:\n",
    "    print(\"Anda memenuhi syarat untuk naik wahana Ferris Wheel.\")\n",
    "else:\n",
    "    print(\"Maaf, Anda belum memenuhi syarat untuk naik wahana Ferris Wheel.\")\n",
    "\n",
    "# Bagian 2: Mengecek kelayakan untuk diskon\n",
    "is_member = input(\"Apakah Anda member? (ya/tidak): \").lower() == \"ya\"\n",
    "purchase = float(input(\"Masukkan total pembelian Anda (dalam Rupiah): \"))\n",
    "\n",
    "if is_member or purchase > 700000:\n",
    "    print(\"Anda mendapatkan diskon.\")\n",
    "else:\n",
    "    print(\"Maaf, Anda tidak mendapatkan diskon.\")\n"
   ]
  },
  {
   "cell_type": "markdown",
   "id": "f9cfcdd2-b379-4b65-abbf-3f8c3201a0f4",
   "metadata": {},
   "source": [
    "#### Menghitung Indeks Massa Tubuh (IMT)\n",
    "Penjelasan: Kode ini meminta pengguna untuk memasukkan berat dan tinggi badan, menghitung IMT, dan mengklasifikasikan status tubuh berdasarkan IMT."
   ]
  },
  {
   "cell_type": "code",
   "execution_count": 182,
   "id": "03ddc383-33d5-4b2e-8934-60ddb0a0661b",
   "metadata": {},
   "outputs": [
    {
     "name": "stdin",
     "output_type": "stream",
     "text": [
      "masukkan berat badan (dalam kg):  10\n",
      "masukkan tinggi badan (dalam cm):  40\n"
     ]
    },
    {
     "name": "stdout",
     "output_type": "stream",
     "text": [
      "IMT anda: 62.50\n",
      "klasifikasi: obesitas\n"
     ]
    }
   ],
   "source": [
    "berat = float(input('masukkan berat badan (dalam kg): '))\n",
    "tinggi = float(input('masukkan tinggi badan (dalam cm): '))\n",
    "\n",
    "konversi = tinggi / 100\n",
    "imt = berat / (konversi ** 2)\n",
    "\n",
    "if imt < 18.5:\n",
    "    tubuh = \"kurus\"\n",
    "elif 18.5 <= imt < 25:\n",
    "    tubuh = \"normal\"\n",
    "else:\n",
    "    tubuh = \"obesitas\"\n",
    "\n",
    "print(f\"IMT anda: {imt:.2f}\")\n",
    "print(f\"klasifikasi: {tubuh}\")\n"
   ]
  },
  {
   "cell_type": "markdown",
   "id": "2f24776c-b4e0-46da-b476-9e40638c4680",
   "metadata": {},
   "source": [
    "#### Mengurutkan Bilangan\n",
    "Penjelasan: Kode ini meminta pengguna untuk memasukkan tiga bilangan, kemudian mengecek kondisi untuk mencetak urutan bilangan dari kecil ke besar."
   ]
  },
  {
   "cell_type": "code",
   "execution_count": 184,
   "id": "707852ad-847f-4ad3-a5d7-57ab9d792457",
   "metadata": {},
   "outputs": [
    {
     "name": "stdin",
     "output_type": "stream",
     "text": [
      "Masukkan bilangan pertama (a):  2\n",
      "Masukkan bilangan kedua (b):  1\n",
      "Masukkan bilangan ketiga (c):  5\n"
     ]
    },
    {
     "name": "stdout",
     "output_type": "stream",
     "text": [
      "Urutan dari terkecil ke terbesar: 1 2 5\n"
     ]
    }
   ],
   "source": [
    "# Meminta input dari pengguna\n",
    "a = int(input(\"Masukkan bilangan pertama (a): \"))\n",
    "b = int(input(\"Masukkan bilangan kedua (b): \"))\n",
    "c = int(input(\"Masukkan bilangan ketiga (c): \"))\n",
    "\n",
    "# Mengecek semua kondisi dan mencetak urutan dari kecil ke besar\n",
    "if a < b and b < c:\n",
    "    print(\"Urutan dari terkecil ke terbesar:\", a, b, c)\n",
    "elif a < c and c < b:\n",
    "    print(\"Urutan dari terkecil ke terbesar:\", a, c, b)\n",
    "elif b < a and a < c:\n",
    "    print(\"Urutan dari terkecil ke terbesar:\", b, a, c)\n",
    "elif b < c and c < a:\n",
    "    print(\"Urutan dari terkecil ke terbesar:\", b, c, a)\n",
    "elif c < a and a < b:\n",
    "    print(\"Urutan dari terkecil ke terbesar:\", c, a, b)\n",
    "elif c < b and b < a:\n",
    "    print(\"Urutan dari terkecil ke terbesar:\", c, b, a)\n"
   ]
  },
  {
   "cell_type": "markdown",
   "id": "2b995d58-36b2-4c22-8eb7-d7751b70aece",
   "metadata": {},
   "source": [
    "#### Program Input Angka dengan Penghentian Manual\n",
    "- Program akan terus meminta pengguna untuk memasukkan angka sampai pengguna mengetik 0.\n",
    "- Setiap kali pengguna memasukkan angka selain 0, program akan mencetak angka tersebut.\n",
    "- Jika pengguna mengetik 0, program akan mencetak pesan \"Program dihentikan.\" dan berhenti."
   ]
  },
  {
   "cell_type": "code",
   "execution_count": 193,
   "id": "307650db-ea84-477f-be7d-329d8292924e",
   "metadata": {},
   "outputs": [
    {
     "name": "stdin",
     "output_type": "stream",
     "text": [
      "Masukkan angka (ketik 0 untuk berhenti):  1\n"
     ]
    },
    {
     "name": "stdout",
     "output_type": "stream",
     "text": [
      "Anda memasukkan: 1\n"
     ]
    },
    {
     "name": "stdin",
     "output_type": "stream",
     "text": [
      "Masukkan angka (ketik 0 untuk berhenti):  3\n"
     ]
    },
    {
     "name": "stdout",
     "output_type": "stream",
     "text": [
      "Anda memasukkan: 3\n"
     ]
    },
    {
     "name": "stdin",
     "output_type": "stream",
     "text": [
      "Masukkan angka (ketik 0 untuk berhenti):  8\n"
     ]
    },
    {
     "name": "stdout",
     "output_type": "stream",
     "text": [
      "Anda memasukkan: 8\n"
     ]
    },
    {
     "name": "stdin",
     "output_type": "stream",
     "text": [
      "Masukkan angka (ketik 0 untuk berhenti):  0\n"
     ]
    },
    {
     "name": "stdout",
     "output_type": "stream",
     "text": [
      "Program dihentikan.\n"
     ]
    }
   ],
   "source": [
    "while True:\n",
    "    num = int(input(\"Masukkan angka (ketik 0 untuk berhenti): \"))\n",
    "    if num == 0:\n",
    "        print(\"Program dihentikan.\")\n",
    "        break\n",
    "    print(f\"Anda memasukkan: {num}\")"
   ]
  },
  {
   "cell_type": "markdown",
   "id": "d51d2a09-ad58-408b-a41c-9e373987756b",
   "metadata": {},
   "source": [
    "## Minggu 9"
   ]
  },
  {
   "cell_type": "markdown",
   "id": "2d559b43-823a-4785-a80e-f796d62ca663",
   "metadata": {},
   "source": [
    "#### Menentukan Predikat Berdasarkan Nilai\n",
    "Penjelasan: Fungsi predikat menerima tiga nilai, menghitung rata-ratanya, dan memberikan predikat berdasarkan rentang rata-rata tersebut."
   ]
  },
  {
   "cell_type": "code",
   "execution_count": 203,
   "id": "eababadd-a689-4a43-bda5-9ae5e53e4ae9",
   "metadata": {},
   "outputs": [
    {
     "name": "stdin",
     "output_type": "stream",
     "text": [
      "Masukkan nilai pertama:  10\n",
      "Masukkan nilai kedua:  45\n",
      "Masukkan nilai ketiga:  70\n"
     ]
    },
    {
     "name": "stdout",
     "output_type": "stream",
     "text": [
      "Masih banyak ruang untuk perbaikan!\n"
     ]
    }
   ],
   "source": [
    "def grade(n1, n2, n3):\n",
    "    average = (n1 + n2 + n3) / 3\n",
    "    if 85 <= average <= 100:\n",
    "        print(\"Selamat, predikat kamu A+!\")\n",
    "    elif 70 <= average < 85:\n",
    "        print(\"Predikat kamu B, pertahankan ya!\")\n",
    "    elif 50 <= average < 70:\n",
    "        print(\"Predikat kamu C, perlu usaha lebih!\")\n",
    "    elif 0 <= average < 50:\n",
    "        print(\"Masih banyak ruang untuk perbaikan!\")\n",
    "\n",
    "nilai1 = int(input(\"Masukkan nilai pertama: \"))\n",
    "nilai2 = int(input(\"Masukkan nilai kedua: \"))\n",
    "nilai3 = int(input(\"Masukkan nilai ketiga: \"))\n",
    "\n",
    "hasil = grade(nilai1, nilai2, nilai3)\n"
   ]
  },
  {
   "cell_type": "markdown",
   "id": "0df519c1-6ce7-4239-8330-fb1e1473ddc7",
   "metadata": {},
   "source": [
    "#### Mengubah Variabel Global\n",
    "Penjelasan: Fungsi fungsi_ubah mengubah nilai variabel global dari 5 menjadi 15 menggunakan keyword global."
   ]
  },
  {
   "cell_type": "code",
   "execution_count": 206,
   "id": "4c2b6bd1-1ea4-45df-bb4e-bd346707c2ba",
   "metadata": {},
   "outputs": [
    {
     "name": "stdout",
     "output_type": "stream",
     "text": [
      "15\n"
     ]
    }
   ],
   "source": [
    "variabel_global = 5 \n",
    "# Karena diluar fungsi, nilainya bisa diakses mana saja\n",
    "def fungsi_ubah():\n",
    "    global variabel_global \n",
    "    # Memberitahu python, ini adalah global bukan lokal\n",
    "    variabel_global = 15 \n",
    "    # Mengubah nilai dari 5 ke 15\n",
    "    \n",
    "fungsi_ubah()\n",
    "print(variabel_global)\n"
   ]
  },
  {
   "cell_type": "markdown",
   "id": "3278d0b6-2313-44e7-bd3a-14f4ccb192c8",
   "metadata": {},
   "source": [
    "#### Menampilkan Suhu dengan Parameter Default\n",
    "Penjelasan: Fungsi suhu menerima daerah, derajat, dan satuan sebagai parameter, dengan default untuk derajat dan satuan."
   ]
  },
  {
   "cell_type": "code",
   "execution_count": 198,
   "id": "5e752140-6af6-462e-a107-27632e77ee1d",
   "metadata": {},
   "outputs": [
    {
     "name": "stdout",
     "output_type": "stream",
     "text": [
      "Suhu di Makassar adalah 100 celcius\n"
     ]
    }
   ],
   "source": [
    "def suhu(daerah, derajat=30, satuan='celcius'): # Memberikan default\n",
    "    print(f\"Suhu di {daerah} adalah {derajat} {satuan}\")\n",
    "\n",
    "suhu(daerah='Makassar', derajat=100)\n"
   ]
  },
  {
   "cell_type": "markdown",
   "id": "732618b8-d55c-403a-bc5c-fb594a16bfbf",
   "metadata": {},
   "source": [
    "#### Menjumlahkan Beberapa Angka\n",
    "Fungsi jumlah menerima sejumlah argumen dan mengembalikan jumlah totalnya menggunakan sum."
   ]
  },
  {
   "cell_type": "code",
   "execution_count": null,
   "id": "9cc69a4c-f706-47a8-9075-6aa0ff0166e3",
   "metadata": {},
   "outputs": [],
   "source": [
    "def jumlah(*args): # Membuat parameter tak terbatas\n",
    "    return sum(args)\n",
    "\n",
    "hasil = jumlah(1, 2, 3, 4, 5, 6, 7)\n",
    "print(\"Hasil penjumlahan: \", hasil)\n"
   ]
  },
  {
   "cell_type": "markdown",
   "id": "83b12b73-d11a-4cc5-a3d1-0a1cc77615ac",
   "metadata": {},
   "source": [
    "## Minggu 10"
   ]
  },
  {
   "cell_type": "markdown",
   "id": "fb8ac42c-8625-49e9-b85e-70861ab61982",
   "metadata": {},
   "source": [
    "#### Menghitung Uang Saku Anak Berdasarkan Usia\n",
    "Penjelasan: Kode ini menghitung jumlah total uang saku yang diberikan kepada anak-anak berdasarkan usia mereka. Anak-anak dengan usia di bawah 10 tahun mendapatkan (10), antara 10 dan 15 tahun mendapatkan (15), dan di atas 15 tahun mendapatkan (20). Total uang saku kemudian dihitung dan ditampilkan."
   ]
  },
  {
   "cell_type": "code",
   "execution_count": 217,
   "id": "ed357905-5867-4f5f-9a72-ef5572c47385",
   "metadata": {},
   "outputs": [
    {
     "name": "stdout",
     "output_type": "stream",
     "text": [
      "Anak: 1 (usia 8 tahun) mendapat uang saku: $10\n",
      "Anak: 2 (usia 12 tahun) mendapat uang saku: $15\n",
      "Anak: 3 (usia 9 tahun) mendapat uang saku: $10\n",
      "Anak: 4 (usia 16 tahun) mendapat uang saku: $20\n",
      "Anak: 5 (usia 14 tahun) mendapat uang saku: $15\n",
      "Anak: 6 (usia 16 tahun) mendapat uang saku: $20\n",
      "Anak: 7 (usia 4 tahun) mendapat uang saku: $10\n",
      "Anak: 8 (usia 10 tahun) mendapat uang saku: $15\n",
      "Total uang saku yang diberikan kepada semua anak Keluarga Wijaya dalam satu minggu adalah: $115\n"
     ]
    }
   ],
   "source": [
    "usia_anak = [8, 12, 9, 16, 14, 16, 4, 10]\n",
    "\n",
    "urutan = 0\n",
    "total_uang_saku = 0\n",
    "\n",
    "for usia in usia_anak:\n",
    "    if usia < 10:\n",
    "        uang_saku = 10\n",
    "        \n",
    "    elif 10 <= usia <= 15:\n",
    "        uang_saku = 15 \n",
    "    else:\n",
    "        uang_saku = 20 \n",
    "        \n",
    "    total_uang_saku += uang_saku\n",
    "    urutan += 1\n",
    "    print(f\"Anak: {urutan} (usia {usia} tahun) mendapat uang saku: ${uang_saku}\")\n",
    "\n",
    "print(f\"Total uang saku yang diberikan kepada semua anak Keluarga Wijaya dalam satu minggu adalah: ${total_uang_saku}\")\n"
   ]
  },
  {
   "cell_type": "markdown",
   "id": "16206ce7-0724-419e-8db9-69642f18c354",
   "metadata": {},
   "source": [
    "#### Menghitung Total Uang Saku Anak\n",
    "Penjelasan: Kode ini menghitung total uang saku yang diberikan kepada anak-anak dalam satu minggu berdasarkan usia mereka tanpa mencetak detail per anak."
   ]
  },
  {
   "cell_type": "code",
   "execution_count": 220,
   "id": "25d20115-81a3-4d91-afe7-0cb33e6ff735",
   "metadata": {},
   "outputs": [
    {
     "name": "stdout",
     "output_type": "stream",
     "text": [
      "Total uang saku yang diberikan kepada semua anak Keluarga Wijaya dalam satu minggu adalah: $115\n"
     ]
    }
   ],
   "source": [
    "usia_anak = [8, 12, 9, 16, 14, 16, 4, 10]\n",
    "total_uang_saku = 0\n",
    "\n",
    "for usia in usia_anak:\n",
    "    if usia < 10:\n",
    "        uang_saku = 10\n",
    "        \n",
    "    elif 10 <= usia <= 15:\n",
    "        uang_saku = 15 \n",
    "    else:\n",
    "        uang_saku = 20 \n",
    "        \n",
    "    total_uang_saku += uang_saku\n",
    "\n",
    "print(f\"Total uang saku yang diberikan kepada semua anak Keluarga Wijaya dalam satu minggu adalah: ${total_uang_saku}\")\n"
   ]
  },
  {
   "cell_type": "markdown",
   "id": "99dd2886-28eb-4dfe-bca9-04c6f776ddad",
   "metadata": {},
   "source": [
    "#### Cetak Angka dan Kata \"Fizz\"\n",
    "Penjelasan: Kode ini mencetak angka dari 1 hingga 9, namun menggantikan angka yang habis dibagi 3 dengan kata \"Fizz\"."
   ]
  },
  {
   "cell_type": "code",
   "execution_count": 223,
   "id": "6e5ef038-bdf8-4e3c-b263-0cc4e6bc21f2",
   "metadata": {},
   "outputs": [
    {
     "name": "stdout",
     "output_type": "stream",
     "text": [
      "1 2 Fizz 4 5 Fizz 7 8 Fizz "
     ]
    }
   ],
   "source": [
    "for i in range(1, 10):\n",
    "    if i % 3 == 0:\n",
    "        print(\"Fizz\", end=\" \")\n",
    "    else:\n",
    "        print(i, end=\" \")\n"
   ]
  },
  {
   "cell_type": "markdown",
   "id": "e11d43df-f09b-4c99-b9a9-ef37a51b9258",
   "metadata": {},
   "source": [
    "#### Menghitung Total Harga Berdasarkan Jumlah Barang\n",
    "Penjelasan: Kode ini menghitung total harga berdasarkan jumlah barang dengan diskon berbeda tergantung pada jumlah barang."
   ]
  },
  {
   "cell_type": "code",
   "execution_count": 226,
   "id": "c7773b1b-b50b-4806-98e8-b7896d7fe38a",
   "metadata": {},
   "outputs": [
    {
     "name": "stdout",
     "output_type": "stream",
     "text": [
      "Total harga: 7600.0\n"
     ]
    }
   ],
   "source": [
    "jumlah_barang = 8\n",
    "harga_per_unit = 1000\n",
    "if jumlah_barang > 10:\n",
    "    total = jumlah_barang * harga_per_unit * 0.9\n",
    "elif jumlah_barang > 5:\n",
    "    total = jumlah_barang * harga_per_unit * 0.95\n",
    "else:\n",
    "    total = jumlah_barang * harga_per_unit\n",
    "print(\"Total harga:\", total)\n"
   ]
  },
  {
   "cell_type": "markdown",
   "id": "2ec0f68d-76ba-47b3-a1fa-4df21a48b858",
   "metadata": {},
   "source": [
    "## Di Minggu untuk melaksanakan UTS maupun Tugas Pengganti, tidak saya masukkan, Terimaksih"
   ]
  }
 ],
 "metadata": {
  "kernelspec": {
   "display_name": "Python 3 (ipykernel)",
   "language": "python",
   "name": "python3"
  },
  "language_info": {
   "codemirror_mode": {
    "name": "ipython",
    "version": 3
   },
   "file_extension": ".py",
   "mimetype": "text/x-python",
   "name": "python",
   "nbconvert_exporter": "python",
   "pygments_lexer": "ipython3",
   "version": "3.12.7"
  }
 },
 "nbformat": 4,
 "nbformat_minor": 5
}
